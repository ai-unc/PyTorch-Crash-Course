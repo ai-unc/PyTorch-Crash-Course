{
 "cells": [
  {
   "cell_type": "code",
   "execution_count": null,
   "metadata": {},
   "outputs": [],
   "source": [
    "import numpy as np\n",
    "import matplotlib.pyplot as plt\n",
    "import torch\n",
    "import torch.nn as nn\n",
    "import torch.optim as optim\n",
    "import torchvision\n",
    "import torchvision.transforms as transforms\n",
    "from torchinfo import summary\n",
    "\n",
    "# Transformations for CIFAR-10\n",
    "transform = transforms.Compose([\n",
    "    transforms.ToTensor(),\n",
    "    transforms.Normalize((0.5, 0.5, 0.5), (0.5, 0.5, 0.5))  # Normalize to [-1, 1]\n",
    "])\n",
    "\n",
    "# Load CIFAR-10 dataset\n",
    "batch_size = 64\n",
    "\n",
    "trainset = torchvision.datasets.CIFAR10(root='./data', train=True, download=True, transform=transform)\n",
    "trainloader = torch.utils.data.DataLoader(trainset, batch_size=batch_size, shuffle=True)\n",
    "\n",
    "testset = torchvision.datasets.CIFAR10(root='./data', train=False, download=True, transform=transform)\n",
    "testloader = torch.utils.data.DataLoader(testset, batch_size=batch_size, shuffle=False)\n",
    "\n",
    "classes = trainset.classes"
   ]
  },
  {
   "cell_type": "markdown",
   "metadata": {},
   "source": [
    "## Fully-connected network"
   ]
  },
  {
   "cell_type": "code",
   "execution_count": null,
   "metadata": {},
   "outputs": [],
   "source": [
    "class FullyConnectedNet(nn.Module):\n",
    "\tdef __init__(self):\n",
    "\t\tsuper(FullyConnectedNet, self).__init__()\n",
    "\t\tself.fc1 = nn.Linear(3 * 32 * 32, 512)\n",
    "\t\tself.fc2 = nn.Linear(512, 512)\n",
    "\t\tself.fc3 = nn.Linear(512, 128)\n",
    "\t\tself.fc4 = nn.Linear(128, 10)\n",
    "\n",
    "\tdef forward(self, x):\n",
    "\t\t# flatten input\n",
    "\t\tx = x.view(x.size(0), -1)\n",
    "\t\tx = torch.relu(self.fc1(x))\n",
    "\t\tx = torch.relu(self.fc2(x))\n",
    "\t\tx = torch.relu(self.fc3(x))\n",
    "\t\tx = self.fc4(x)\n",
    "\t\treturn x"
   ]
  },
  {
   "cell_type": "markdown",
   "metadata": {},
   "source": [
    "## Train and test functions"
   ]
  },
  {
   "cell_type": "code",
   "execution_count": null,
   "metadata": {},
   "outputs": [],
   "source": [
    "def evaluate_model(model, dataloader):\n",
    "\tmodel.eval()\n",
    "\tcorrect = 0\n",
    "\ttotal = 0\n",
    "\twith torch.no_grad():\n",
    "\t\tfor inputs, labels in dataloader:\n",
    "\t\t\toutputs = model(inputs)\n",
    "\t\t\t_, predicted = torch.max(outputs, 1)\n",
    "\t\t\ttotal += labels.size(0)\n",
    "\t\t\tcorrect += (predicted == labels).sum().item()\n",
    "\tmodel.train()\n",
    "\treturn correct / total\n",
    "\n",
    "def train_test(model, criterion, optimizer, epochs=5):\n",
    "\ttrain_accuracies = []\n",
    "\ttest_accuracies = []\n",
    "\tfor epoch in range(epochs):\n",
    "\t\trunning_loss = 0.0\n",
    "\t\tcorrect_train = 0\n",
    "\t\ttotal_train = 0\n",
    "\t\tfor inputs, labels in trainloader:\n",
    "\t\t\toptimizer.zero_grad()\n",
    "\t\t\toutputs = model(inputs)\n",
    "\t\t\tloss = criterion(outputs, labels)\n",
    "\t\t\tloss.backward()\n",
    "\t\t\toptimizer.step()\n",
    "\t\t\trunning_loss += loss.item()\n",
    "\n",
    "\t\t\t# Calculate training accuracy per batch\n",
    "\t\t\t_, predicted = torch.max(outputs, 1)\n",
    "\t\t\ttotal_train += labels.size(0)\n",
    "\t\t\tcorrect_train += (predicted == labels).sum().item()\n",
    "\t\n",
    "\t\t# Calculate epoch training accuracy\n",
    "\t\ttrain_accuracy = correct_train / total_train\n",
    "\t\ttrain_accuracies.append(train_accuracy)\n",
    "\n",
    "\t\t# Evaluate the model on the test dataset\n",
    "\t\ttest_accuracy = evaluate_model(model, testloader)\n",
    "\t\ttest_accuracies.append(test_accuracy)\n",
    "\t\tprint(f\"Epoch {epoch + 1}: Training Loss = {running_loss / len(trainloader):.4f}, Training Accuracy = {train_accuracy * 100:.2f}%, Test Accuracy = {test_accuracy * 100:.2f}%\")\n",
    "\treturn np.array(train_accuracies), np.array(test_accuracies)"
   ]
  },
  {
   "cell_type": "code",
   "execution_count": null,
   "metadata": {},
   "outputs": [],
   "source": [
    "def plot_accuracy(train_accuracies, test_accuracies, epochs, title):\n",
    "    plt.figure(figsize=(10, 6))\n",
    "    plt.ylim(0, 100)\n",
    "    plt.plot(range(1, epochs + 1), train_accuracies*100, label='Training Accuracy', marker='o')\n",
    "    plt.plot(range(1, epochs + 1), test_accuracies*100, label='Test Accuracy', marker='o')\n",
    "    plt.xlabel('Epochs')\n",
    "    plt.ylabel('Accuracy')\n",
    "    plt.title(f'{title} - Training and Test Accuracy')\n",
    "    plt.legend()\n",
    "    plt.grid()\n",
    "    plt.show()"
   ]
  },
  {
   "cell_type": "markdown",
   "metadata": {},
   "source": [
    "## Train fully-connected network"
   ]
  },
  {
   "cell_type": "code",
   "execution_count": null,
   "metadata": {},
   "outputs": [],
   "source": [
    "fc_model = FullyConnectedNet()\n",
    "# summary(fc_model, input_size=[1, 3, 64, 64]) # single image batch\n",
    "fc_model"
   ]
  },
  {
   "cell_type": "markdown",
   "metadata": {},
   "source": [
    "## Small Convolutional Neural Network"
   ]
  },
  {
   "cell_type": "code",
   "execution_count": null,
   "metadata": {},
   "outputs": [],
   "source": [
    "class ConvNet3(nn.Module):\n",
    "    def __init__(self):\n",
    "        super(ConvNet3, self).__init__()\n",
    "        self.conv1 = nn.Conv2d(3, 32, kernel_size=3, padding=1)\n",
    "        self.conv2 = nn.Conv2d(32, 64, kernel_size=3, padding=1)\n",
    "        self.conv3 = nn.Conv2d(64, 128, kernel_size=3, padding=1)\n",
    "        self.fc1 = nn.Linear(128 * 4 * 4, 10)  # Adjusted for pooling\n",
    "\n",
    "    def forward(self, x):\n",
    "        x = torch.relu(self.conv1(x))\n",
    "        x = torch.max_pool2d(x, 2)\n",
    "        x = torch.relu(self.conv2(x))\n",
    "        x = torch.max_pool2d(x, 2)\n",
    "        x = torch.relu(self.conv3(x))\n",
    "        x = torch.max_pool2d(x, 2)\n",
    "        x = x.view(x.size(0), -1)\n",
    "        x = self.fc1(x)\n",
    "        return x"
   ]
  },
  {
   "cell_type": "code",
   "execution_count": null,
   "metadata": {},
   "outputs": [],
   "source": [
    "conv3_model = ConvNet3()\n",
    "# summary(conv3_model, input_size=[1, 3, 64, 64])\n",
    "conv3_model"
   ]
  },
  {
   "cell_type": "markdown",
   "metadata": {},
   "source": [
    "## Fancy VGG-style CNN"
   ]
  },
  {
   "cell_type": "code",
   "execution_count": null,
   "metadata": {},
   "outputs": [],
   "source": [
    "class VGGStyleNet(nn.Module):\n",
    "    def __init__(self):\n",
    "        super(VGGStyleNet, self).__init__()\n",
    "        self.conv_block1 = nn.Sequential(\n",
    "            nn.Conv2d(3, 64, kernel_size=3, padding=1),\n",
    "            nn.ReLU(),\n",
    "            nn.Conv2d(64, 64, kernel_size=3, padding=1),\n",
    "            nn.ReLU(),\n",
    "            nn.MaxPool2d(2)\n",
    "        )\n",
    "        self.conv_block2 = nn.Sequential(\n",
    "            nn.Conv2d(64, 128, kernel_size=3, padding=1),\n",
    "            nn.ReLU(),\n",
    "            nn.Conv2d(128, 128, kernel_size=3, padding=1),\n",
    "            nn.ReLU(),\n",
    "            nn.MaxPool2d(2)\n",
    "        )\n",
    "        self.conv_block3 = nn.Sequential(\n",
    "            nn.Conv2d(128, 256, kernel_size=3, padding=1),\n",
    "            nn.ReLU(),\n",
    "            nn.Conv2d(256, 256, kernel_size=3, padding=1),\n",
    "            nn.ReLU(),\n",
    "            nn.MaxPool2d(2)\n",
    "        )\n",
    "        self.fc = nn.Sequential(\n",
    "            nn.Linear(256 * 4 * 4, 1024),\n",
    "            nn.ReLU(),\n",
    "            nn.Linear(1024, 10)\n",
    "        )\n",
    "\n",
    "    def forward(self, x):\n",
    "        x = self.conv_block1(x)\n",
    "        x = self.conv_block2(x)\n",
    "        x = self.conv_block3(x)\n",
    "        x = x.view(x.size(0), -1)\n",
    "        x = self.fc(x)\n",
    "        return x\n"
   ]
  },
  {
   "cell_type": "code",
   "execution_count": null,
   "metadata": {},
   "outputs": [],
   "source": [
    "vgg_model = VGGStyleNet()\n",
    "# summary(vgg_model, input_size=[1, 3, 64, 64]) # single image batch\n",
    "vgg_model"
   ]
  },
  {
   "cell_type": "markdown",
   "metadata": {},
   "source": [
    "## Train models"
   ]
  },
  {
   "cell_type": "code",
   "execution_count": null,
   "metadata": {},
   "outputs": [],
   "source": [
    "criterion = nn.CrossEntropyLoss()\n",
    "models = [fc_model, conv3_model, vgg_model]\n",
    "model_names = [\"Fully-connected Model\", \"3-layer CNN\", \"VGG-style CNN\"]\n",
    "EPOCHS = 10\n",
    "\n",
    "for i in range(len(models)):\n",
    "\toptimizer = optim.Adam(models[i].parameters(), lr=0.001)\n",
    "\ttrain_accuracies, test_accuracies = train_test(models[i], criterion, optimizer, EPOCHS)\n",
    "\tplot_accuracy(train_accuracies, test_accuracies, EPOCHS, model_names[i])"
   ]
  }
 ],
 "metadata": {
  "kernelspec": {
   "display_name": "torch-gpu",
   "language": "python",
   "name": "python3"
  },
  "language_info": {
   "codemirror_mode": {
    "name": "ipython",
    "version": 3
   },
   "file_extension": ".py",
   "mimetype": "text/x-python",
   "name": "python",
   "nbconvert_exporter": "python",
   "pygments_lexer": "ipython3",
   "version": "3.10.11"
  }
 },
 "nbformat": 4,
 "nbformat_minor": 2
}
