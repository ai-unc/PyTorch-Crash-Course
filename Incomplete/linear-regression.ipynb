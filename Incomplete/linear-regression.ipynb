{
 "cells": [
  {
   "cell_type": "markdown",
   "metadata": {},
   "source": [
    "# Regression in PyTorch"
   ]
  },
  {
   "cell_type": "code",
   "execution_count": null,
   "metadata": {},
   "outputs": [],
   "source": [
    "import matplotlib.pyplot as plt # for plots\n",
    "import numpy as np # for generating data and working with tensors\n",
    "import pandas as pd # pandas for reading in the csv data and visualizing it\n",
    "import torch # PyTorch for building and training the network\n",
    "import torch.nn as nn # for building the model architecture\n",
    "import torch.optim as optim # for getting an optimizer to update the network weights\n",
    "from sklearn.model_selection import train_test_split # for splitting the dataset into train and test sets"
   ]
  },
  {
   "cell_type": "markdown",
   "metadata": {},
   "source": [
    "## Simple Linear Regression"
   ]
  },
  {
   "cell_type": "markdown",
   "metadata": {},
   "source": [
    "### Generating the data"
   ]
  },
  {
   "cell_type": "code",
   "execution_count": null,
   "metadata": {},
   "outputs": [],
   "source": [
    "# Set random seed for reproducibility\n",
    "np.random.seed(42)\n",
    "\n",
    "# Generate synthetic data\n",
    "num_samples = 100  # Number of data points\n",
    "duration = np.random.uniform(10, 120, num_samples)  # Duration between 10 to 120 minutes\n",
    "\n",
    "# Define calories burned with a linear relationship and some noise\n",
    "calories_burned = duration * 8 + np.random.normal(0, 10, num_samples)  # Noise with std deviation of 10\n",
    "\n",
    "# Create a DataFrame to store the dataset\n",
    "data = pd.DataFrame({\n",
    "    'Duration (minutes)': duration,\n",
    "    'Calories Burned': calories_burned\n",
    "})\n",
    "\n",
    "# Plot the synthetic data\n",
    "plt.scatter(data['Duration (minutes)'], data['Calories Burned'], color='b', label='Data points')\n",
    "plt.xlabel('Duration (minutes)')\n",
    "plt.ylabel('Calories Burned')\n",
    "plt.title('Calories Burned vs. Exercise Duration')\n",
    "plt.legend()\n",
    "plt.show()\n",
    "data.head()"
   ]
  },
  {
   "cell_type": "markdown",
   "metadata": {},
   "source": [
    "### Building the model"
   ]
  },
  {
   "cell_type": "code",
   "execution_count": null,
   "metadata": {},
   "outputs": [],
   "source": [
    "# TODO: create the structure of the PyTorch model\n",
    "\n",
    "# Define and initialize the model\n",
    "# model = LinearRegressionModel()\n",
    "# model"
   ]
  },
  {
   "cell_type": "markdown",
   "metadata": {},
   "source": [
    "### Training the model"
   ]
  },
  {
   "cell_type": "code",
   "execution_count": null,
   "metadata": {},
   "outputs": [],
   "source": [
    "# Convert data to PyTorch tensors\n",
    "X = torch.tensor(data['Duration (minutes)'], dtype=torch.float32).view(-1, 1)\n",
    "y = torch.tensor(data['Calories Burned'], dtype=torch.float32).view(-1, 1)\n",
    "\n",
    "# Normalize the tensors\n",
    "X_mean, X_std = X.mean(), X.std()\n",
    "y_mean, y_std = y.mean(), y.std()\n",
    "X = (X - X_mean) / X_std\n",
    "y = (y - y_mean) / y_std\n",
    "\n",
    "\n",
    "# Define the loss function and the optimizer\n",
    "# TODO: criterion = \n",
    "# TODO: optimizer = \n",
    "\n",
    "# TODO: Training loop\n",
    "\n",
    "# Convert the mean and std tensors to numpy for scaling\n",
    "y_std = y_std.item()\n",
    "y_mean = y_mean.item()\n",
    "\n",
    "# Unnormalize the predictions\n",
    "predicted = model(X).detach().numpy() * y_std + y_mean\n",
    "\n",
    "# Plot the results using original data\n",
    "plt.scatter(data['Duration (minutes)'], data['Calories Burned'], color='blue', label='Original Data')\n",
    "plt.plot(data['Duration (minutes)'], predicted, color='red', label='Fitted Line')\n",
    "plt.xlabel('Duration (minutes)')\n",
    "plt.ylabel('Calories Burned')\n",
    "plt.legend()\n",
    "plt.show()"
   ]
  },
  {
   "cell_type": "code",
   "execution_count": null,
   "metadata": {},
   "outputs": [],
   "source": [
    "# Convert data to PyTorch tensors\n",
    "X = torch.tensor(data['Duration (minutes)'], dtype=torch.float32).view(-1, 1)\n",
    "y = torch.tensor(data['Calories Burned'], dtype=torch.float32).view(-1, 1)\n",
    "\n",
    "# Normalize the tensors\n",
    "X_mean, X_std = X.mean(), X.std()\n",
    "y_mean, y_std = y.mean(), y.std()\n",
    "X = (X - X_mean) / X_std\n",
    "y = (y - y_mean) / y_std\n",
    "\n",
    "# TODO: Split data into 80% train and 20% test\n",
    "X_train, X_test, y_train, y_test = None, None, None, None\n",
    "\n",
    "# Define the loss function and the optimizer\n",
    "# TODO: criterion =\n",
    "# TODO: optimizer =\n",
    "\n",
    "# TODO: Training loop\n",
    "\n",
    "# TODO: Evaluate on the test set\n",
    "predictions_train = None\n",
    "\n",
    "# Unnormalize test and training points for plotting\n",
    "X_train_unnorm = X_train * X_std + X_mean\n",
    "y_train_unnorm = y_train * y_std + y_mean\n",
    "X_test_unnorm = X_test * X_std + X_mean\n",
    "y_test_unnorm = y_test * y_std + y_mean\n",
    "\n",
    "# Plot the results\n",
    "plt.scatter(X_train_unnorm.numpy(), y_train_unnorm.numpy(), color='blue', label='Training Data')\n",
    "plt.scatter(X_test_unnorm.numpy(), y_test_unnorm.numpy(), color='green', label='Test Data')\n",
    "plt.plot(X_train_unnorm.numpy(), predictions_train, color='red', label='Fitted Line (Train)')\n",
    "plt.xlabel('Duration (minutes)')\n",
    "plt.ylabel('Calories Burned')\n",
    "plt.legend()\n",
    "plt.show()"
   ]
  },
  {
   "cell_type": "markdown",
   "metadata": {},
   "source": [
    "## Multi Regression - Nutrients Data"
   ]
  },
  {
   "cell_type": "markdown",
   "metadata": {},
   "source": [
    "### Reading in the data"
   ]
  },
  {
   "cell_type": "code",
   "execution_count": null,
   "metadata": {},
   "outputs": [],
   "source": [
    "# read in the data\n",
    "nutrients_dataframe = pd.read_csv('../Data/nutrients.csv')\n",
    "# print first 5 rows\n",
    "nutrients_dataframe.head(5)"
   ]
  },
  {
   "cell_type": "markdown",
   "metadata": {},
   "source": [
    "### Preparing the data as input\n",
    "\n",
    "We are training a neural network to predict the energy of a food (basically calories) based on the other contents of the food. We don't want to use the food name since that would not be helpful for predicting the energy of food that is not in our dataset."
   ]
  },
  {
   "cell_type": "code",
   "execution_count": null,
   "metadata": {},
   "outputs": [],
   "source": [
    "# train_data_input, train_data_\n",
    "X = nutrients_dataframe[['Protein', 'Fat', 'Calcium', 'Iron']].values\n",
    "y = nutrients_dataframe[['Energy']].values\n",
    "# TODO: split data\n",
    "X_train, X_test, y_train, y_test = \n",
    "\n",
    "# saving for getting the rows from the test set for test set evaluation\n",
    "X_test_split = X_test\n",
    "y_test_split = y_test\n",
    "\n",
    "# Convert to PyTorch tensors\n",
    "X_train = torch.tensor(X_train, dtype=torch.float32)\n",
    "X_test = torch.tensor(X_test, dtype=torch.float32)\n",
    "y_train = torch.tensor(y_train, dtype=torch.float32).view(-1, 1)\n",
    "y_test = torch.tensor(y_test, dtype=torch.float32).view(-1, 1)"
   ]
  },
  {
   "cell_type": "markdown",
   "metadata": {},
   "source": [
    "### Defining the model architecture"
   ]
  },
  {
   "cell_type": "code",
   "execution_count": null,
   "metadata": {},
   "outputs": [],
   "source": [
    "# TODO: define model architecture\n",
    "# model = MultiRegressionModel()"
   ]
  },
  {
   "cell_type": "markdown",
   "metadata": {},
   "source": [
    "### Training the model"
   ]
  },
  {
   "cell_type": "code",
   "execution_count": null,
   "metadata": {},
   "outputs": [],
   "source": [
    "def train_model(model):\n",
    "\t# TODO: Choose mean squared error as the loss function\n",
    "\t# criterion = \n",
    "\n",
    "\t# TODO: Choose Adam to optimize the neural net weights\n",
    "\t# optimizer = \n",
    "\n",
    "\t# TODO: Training loop\n",
    "# train_model(model)"
   ]
  },
  {
   "cell_type": "markdown",
   "metadata": {},
   "source": [
    "### Check predictions compared to actual for the whole dataset"
   ]
  },
  {
   "cell_type": "code",
   "execution_count": null,
   "metadata": {},
   "outputs": [],
   "source": [
    "# TODO: Predicting using the trained model on the entire dataset (X)\n",
    "all_predictions = \n",
    "\n",
    "# Append predictions to the dataframe as a new column\n",
    "nutrients_dataframe['Model 1 Predicted Energy'] = all_predictions\n",
    "\n",
    "# Print the updated dataframe with predictions\n",
    "nutrients_dataframe.head()"
   ]
  },
  {
   "cell_type": "code",
   "execution_count": null,
   "metadata": {},
   "outputs": [],
   "source": [
    "# Determine the min and max of both actual and predicted energies\n",
    "actual_min = min(nutrients_dataframe['Energy'])\n",
    "actual_max = max(nutrients_dataframe['Energy'])\n",
    "predicted_min = min(nutrients_dataframe['Model 1 Predicted Energy'])\n",
    "predicted_max = max(nutrients_dataframe['Model 1 Predicted Energy'])\n",
    "\n",
    "# Use the bounds of both actual and predicted energies for the line of perfect prediction\n",
    "plt.plot([min(actual_min, predicted_min), max(actual_max, predicted_max)],\n",
    "         [min(actual_min, predicted_min), max(actual_max, predicted_max)],\n",
    "         color='red', linestyle='--')\n",
    "\n",
    "# Plot actual vs predicted values\n",
    "plt.scatter(nutrients_dataframe['Energy'], nutrients_dataframe['Model 1 Predicted Energy'], color='blue')\n",
    "plt.xlabel('Actual Energy')\n",
    "plt.ylabel('Predicted Energy')\n",
    "plt.title('Actual vs Predicted Energy - Model 1 on Entire Dataset')\n",
    "plt.show()"
   ]
  },
  {
   "cell_type": "markdown",
   "metadata": {},
   "source": [
    "### Evaluate the model on the test set"
   ]
  },
  {
   "cell_type": "code",
   "execution_count": null,
   "metadata": {},
   "outputs": [],
   "source": [
    "# TODO: Make predictions on the test set\n",
    "test_predictions = None\n",
    "\n",
    "# Convert predictions to numpy for easier manipulation\n",
    "test_predictions = test_predictions.numpy()\n",
    "\n",
    "# Create a DataFrame with actual values (y_test) and predicted values\n",
    "results_df = pd.DataFrame({\n",
    "    'Actual Energy': y_test.flatten(),  # Flatten to match the shape of predictions\n",
    "    'Model 1 Predicted Energy': test_predictions.flatten()\n",
    "})\n",
    "\n",
    "# include the input features from the test set\n",
    "X_test_df = pd.DataFrame(X_test_split, columns=['Protein', 'Fat', 'Calcium', 'Iron'])\n",
    "test_results_df = pd.concat([X_test_df, results_df], axis=1)\n",
    "test_results_df\n"
   ]
  },
  {
   "cell_type": "code",
   "execution_count": null,
   "metadata": {},
   "outputs": [],
   "source": [
    "# Determine the min and max of both actual and predicted energies\n",
    "actual_min = min(test_results_df['Actual Energy'])\n",
    "actual_max = max(test_results_df['Actual Energy'])\n",
    "predicted_min = min(test_results_df['Model 1 Predicted Energy'])\n",
    "predicted_max = max(test_results_df['Model 1 Predicted Energy'])\n",
    "\n",
    "# Use the bounds of both actual and predicted energies for the line of perfect prediction\n",
    "plt.plot([min(actual_min, predicted_min), max(actual_max, predicted_max)],\n",
    "         [min(actual_min, predicted_min), max(actual_max, predicted_max)],\n",
    "         color='red', linestyle='--')\n",
    "\n",
    "# Plot actual vs predicted values\n",
    "plt.scatter(test_results_df['Actual Energy'], test_results_df['Model 1 Predicted Energy'], color='blue')\n",
    "plt.xlabel('Actual Energy')\n",
    "plt.ylabel('Predicted Energy')\n",
    "plt.title('Actual vs Predicted Energy - Model 1 on Test Set')\n",
    "plt.show()"
   ]
  },
  {
   "cell_type": "markdown",
   "metadata": {},
   "source": [
    "## Bigger Model"
   ]
  },
  {
   "cell_type": "code",
   "execution_count": null,
   "metadata": {},
   "outputs": [],
   "source": [
    "# TODO: make a bigger model\n",
    "model = MultiRegressionModel2()"
   ]
  },
  {
   "cell_type": "markdown",
   "metadata": {},
   "source": [
    "### Train model"
   ]
  },
  {
   "cell_type": "code",
   "execution_count": null,
   "metadata": {},
   "outputs": [],
   "source": [
    "train_model(model)"
   ]
  },
  {
   "cell_type": "markdown",
   "metadata": {},
   "source": [
    "### Evaluate performance on test set"
   ]
  },
  {
   "cell_type": "code",
   "execution_count": null,
   "metadata": {},
   "outputs": [],
   "source": [
    "# Predicting using the trained model on the entire dataset (X)\n",
    "model.eval()\n",
    "with torch.no_grad():\n",
    "    all_predictions = model(torch.tensor(X, dtype=torch.float32)).numpy()\n",
    "\n",
    "# Append predictions to the dataframe as a new column\n",
    "nutrients_dataframe['Model 2 Predicted Energy'] = all_predictions\n",
    "\n",
    "# Print the updated dataframe with predictions\n",
    "nutrients_dataframe.head()"
   ]
  },
  {
   "cell_type": "code",
   "execution_count": null,
   "metadata": {},
   "outputs": [],
   "source": [
    "# Determine the min and max of both actual and predicted energies\n",
    "predicted_min = min(nutrients_dataframe['Model 2 Predicted Energy'])\n",
    "predicted_max = max(nutrients_dataframe['Model 2 Predicted Energy'])\n",
    "\n",
    "# Use the bounds of both actual and predicted energies for the line of perfect prediction\n",
    "plt.plot([min(actual_min, predicted_min), max(actual_max, predicted_max)],\n",
    "         [min(actual_min, predicted_min), max(actual_max, predicted_max)],\n",
    "         color='red', linestyle='--')\n",
    "\n",
    "# Plot actual vs predicted values\n",
    "plt.scatter(nutrients_dataframe['Energy'], nutrients_dataframe['Model 2 Predicted Energy'], color='blue')\n",
    "plt.xlabel('Actual Energy')\n",
    "plt.ylabel('Predicted Energy')\n",
    "plt.title('Actual vs Predicted Energy - Model 2 on Entire Dataset')\n",
    "plt.show()"
   ]
  },
  {
   "cell_type": "markdown",
   "metadata": {},
   "source": [
    "### Evaluate Model 2 on Test Set"
   ]
  },
  {
   "cell_type": "code",
   "execution_count": null,
   "metadata": {},
   "outputs": [],
   "source": [
    "# Make predictions on the test set\n",
    "model.eval()\n",
    "with torch.no_grad():\n",
    "    test_predictions = model(X_test)\n",
    "\n",
    "# Convert predictions to numpy for easier manipulation\n",
    "test_predictions = test_predictions.numpy()\n",
    "test_results_df['Model 2 Predicted Energy'] = test_predictions.flatten()\n",
    "test_results_df"
   ]
  },
  {
   "cell_type": "code",
   "execution_count": null,
   "metadata": {},
   "outputs": [],
   "source": [
    "# Determine the min and max of both actual and predicted energies\n",
    "predicted_min = min(test_results_df['Model 2 Predicted Energy'])\n",
    "predicted_max = max(test_results_df['Model 2 Predicted Energy'])\n",
    "\n",
    "# Use the bounds of both actual and predicted energies for the line of perfect prediction\n",
    "plt.plot([min(actual_min, predicted_min), max(actual_max, predicted_max)],\n",
    "         [min(actual_min, predicted_min), max(actual_max, predicted_max)],\n",
    "         color='red', linestyle='--')\n",
    "\n",
    "# Plot actual vs predicted values\n",
    "plt.scatter(test_results_df['Actual Energy'], test_results_df['Model 2 Predicted Energy'], color='blue')\n",
    "plt.xlabel('Actual Energy')\n",
    "plt.ylabel('Predicted Energy')\n",
    "plt.title('Actual vs Predicted Energy - Model 2 on Test Set')\n",
    "plt.show()"
   ]
  }
 ],
 "metadata": {
  "kernelspec": {
   "display_name": "torch-gpu",
   "language": "python",
   "name": "python3"
  },
  "language_info": {
   "codemirror_mode": {
    "name": "ipython",
    "version": 3
   },
   "file_extension": ".py",
   "mimetype": "text/x-python",
   "name": "python",
   "nbconvert_exporter": "python",
   "pygments_lexer": "ipython3",
   "version": "3.10.11"
  }
 },
 "nbformat": 4,
 "nbformat_minor": 2
}
