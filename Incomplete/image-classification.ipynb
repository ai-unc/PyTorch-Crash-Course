{
 "cells": [
  {
   "cell_type": "markdown",
   "metadata": {},
   "source": [
    "# CIFAR-10 Image Classification with CNNs"
   ]
  },
  {
   "cell_type": "code",
   "execution_count": null,
   "metadata": {
    "colab": {
     "base_uri": "https://localhost:8080/"
    },
    "id": "4apb_k-lXYE1",
    "outputId": "acb5404b-3d8f-42eb-d7db-c9e6e45d1138"
   },
   "outputs": [],
   "source": [
    "!pip install torchinfo"
   ]
  },
  {
   "cell_type": "code",
   "execution_count": null,
   "metadata": {
    "colab": {
     "base_uri": "https://localhost:8080/"
    },
    "id": "Ev4-nLWyIXZt",
    "outputId": "544cc900-70e9-4273-b222-a8826f2e8ace"
   },
   "outputs": [],
   "source": [
    "import numpy as np\n",
    "import matplotlib.pyplot as plt\n",
    "import torch\n",
    "import torch.nn as nn\n",
    "import torch.optim as optim\n",
    "import torchvision\n",
    "import torchvision.transforms as transforms\n",
    "from torchinfo import summary\n",
    "\n",
    "# Transformations for CIFAR-10\n",
    "transform = transforms.Compose([\n",
    "    transforms.ToTensor(),\n",
    "    transforms.Normalize((0.5, 0.5, 0.5), (0.5, 0.5, 0.5))  # Normalize to [-1, 1]\n",
    "])\n",
    "\n",
    "# Load CIFAR-10 dataset\n",
    "batch_size = 64\n",
    "\n",
    "trainset = torchvision.datasets.CIFAR10(root='./data', train=True, download=True, transform=transform)\n",
    "trainloader = torch.utils.data.DataLoader(trainset, batch_size=batch_size, shuffle=True)\n",
    "\n",
    "testset = torchvision.datasets.CIFAR10(root='./data', train=False, download=True, transform=transform)\n",
    "testloader = torch.utils.data.DataLoader(testset, batch_size=batch_size, shuffle=False)\n",
    "\n",
    "classes = trainset.classes"
   ]
  },
  {
   "cell_type": "code",
   "execution_count": null,
   "metadata": {
    "colab": {
     "base_uri": "https://localhost:8080/"
    },
    "id": "FBT0pdqOJQ8j",
    "outputId": "78252ceb-2c91-467d-eede-bc484d9e6cb7"
   },
   "outputs": [],
   "source": [
    "# cuda means NVIDIA GPU\n",
    "device = \"cuda\" if torch.cuda.is_available() else \"cpu\"\n",
    "print(f\"Using {device} device\")"
   ]
  },
  {
   "cell_type": "code",
   "execution_count": null,
   "metadata": {
    "colab": {
     "base_uri": "https://localhost:8080/",
     "height": 209
    },
    "id": "_FqXfpQxUhwQ",
    "outputId": "04e0b180-0c09-41c2-ec2c-0629bcd8ef33"
   },
   "outputs": [],
   "source": [
    "def show_images(img, mean, std):\n",
    "    # Un-normalize the image and plot it\n",
    "    mean = torch.tensor(mean, device=img.device)\n",
    "    std = torch.tensor(std, device=img.device)\n",
    "    img = img.permute(1, 2, 0)\n",
    "    img = img * std + mean\n",
    "    plt.imshow(img.numpy())\n",
    "\n",
    "\n",
    "# fetch a batch from the train dataset\n",
    "dataiter = iter(trainloader)\n",
    "images, labels = next(dataiter)\n",
    "nimages = min(batch_size, 4)\n",
    "norm = transform.transforms[-1]\n",
    "show_images(torchvision.utils.make_grid(images[:nimages]), norm.mean, norm.std)\n",
    "# print labels\n",
    "print(' '.join('%5s' % classes[labels[j]] for j in range(nimages)))"
   ]
  },
  {
   "cell_type": "markdown",
   "metadata": {
    "id": "kPIuIMuyIXZv"
   },
   "source": [
    "## Fully-connected network"
   ]
  },
  {
   "cell_type": "code",
   "execution_count": null,
   "metadata": {
    "id": "glWh7HG6IXZw"
   },
   "outputs": [],
   "source": [
    "# TODO: class FullyConnectedNet(nn.Module):"
   ]
  },
  {
   "cell_type": "markdown",
   "metadata": {
    "id": "RnmEA8muIXZx"
   },
   "source": [
    "## Train and test functions"
   ]
  },
  {
   "cell_type": "code",
   "execution_count": null,
   "metadata": {
    "id": "x0KDuj9uIXZx"
   },
   "outputs": [],
   "source": [
    "def evaluate_model(model, dataloader):\n",
    "\t# TODO:\n",
    "\treturn correct / total\n",
    "\n",
    "def train_test(model, criterion, optimizer, epochs=5):\n",
    "\ttrain_accuracies = []\n",
    "\ttest_accuracies = []\n",
    "\t# TODO:\n",
    "\t# print(f\"Epoch {epoch + 1}: Training Loss = {running_loss / len(trainloader):.4f}, Training Accuracy = {train_accuracy * 100:.2f}%, Test Accuracy = {test_accuracy * 100:.2f}%\")\n",
    "\treturn np.array(train_accuracies), np.array(test_accuracies)"
   ]
  },
  {
   "cell_type": "code",
   "execution_count": null,
   "metadata": {
    "id": "YHBDb6HwIXZy"
   },
   "outputs": [],
   "source": [
    "def plot_accuracy(train_accuracies, test_accuracies, epochs, title):\n",
    "    plt.figure(figsize=(10, 6))\n",
    "    plt.ylim(0, 100)\n",
    "    plt.plot(range(1, epochs + 1), train_accuracies*100, label='Training Accuracy', marker='o')\n",
    "    plt.plot(range(1, epochs + 1), test_accuracies*100, label='Test Accuracy', marker='o')\n",
    "    plt.xlabel('Epochs')\n",
    "    plt.ylabel('Accuracy')\n",
    "    plt.title(f'{title} - Training and Test Accuracy')\n",
    "    plt.legend()\n",
    "    plt.grid()\n",
    "    plt.show()"
   ]
  },
  {
   "cell_type": "markdown",
   "metadata": {
    "id": "RRAjzcWIIXZy"
   },
   "source": [
    "## Train fully-connected network"
   ]
  },
  {
   "cell_type": "code",
   "execution_count": null,
   "metadata": {
    "colab": {
     "base_uri": "https://localhost:8080/"
    },
    "id": "4Ctd4Ix5IXZz",
    "outputId": "aa476d4f-99ca-42eb-e8fd-8d5b3216172c"
   },
   "outputs": [],
   "source": [
    "fc_model = FullyConnectedNet()\n",
    "# TODO: print model summary\n",
    "# print(fc_model)\n",
    "fc_model.to(device)"
   ]
  },
  {
   "cell_type": "markdown",
   "metadata": {
    "id": "mcptB63OIXZz"
   },
   "source": [
    "## Small Convolutional Neural Network"
   ]
  },
  {
   "cell_type": "code",
   "execution_count": null,
   "metadata": {
    "id": "7R0CaTeoIXZz"
   },
   "outputs": [],
   "source": [
    "#TODO: class ConvNet3(nn.Module):"
   ]
  },
  {
   "cell_type": "code",
   "execution_count": null,
   "metadata": {
    "colab": {
     "base_uri": "https://localhost:8080/"
    },
    "id": "nAGe3sJLIXZ0",
    "outputId": "1b980d6c-9bfd-42ac-ec07-a83d2e45ca8d"
   },
   "outputs": [],
   "source": [
    "conv3_model = ConvNet3()\n",
    "print(summary(conv3_model, input_size=(batch_size, 3, 32, 32)))\n",
    "# print(conv3_model)\n",
    "conv3_model.to(device)"
   ]
  },
  {
   "cell_type": "markdown",
   "metadata": {
    "id": "hfSYQYt7IXZ0"
   },
   "source": [
    "## Fancy VGG-style CNN"
   ]
  },
  {
   "cell_type": "code",
   "execution_count": null,
   "metadata": {
    "id": "EHKjXwHFIXZ1"
   },
   "outputs": [],
   "source": [
    "#TODO: class VGGStyleNet(nn.Module):\n"
   ]
  },
  {
   "cell_type": "code",
   "execution_count": null,
   "metadata": {
    "colab": {
     "base_uri": "https://localhost:8080/"
    },
    "id": "CM7OmAzhIXZ1",
    "outputId": "588c8c6f-61f9-40c9-e5b8-e1b9c3db6180"
   },
   "outputs": [],
   "source": [
    "vgg_model = VGGStyleNet()\n",
    "print(summary(vgg_model, input_size=(batch_size, 3, 32, 32)))\n",
    "# print(vgg_model)\n",
    "vgg_model.to(device)"
   ]
  },
  {
   "cell_type": "markdown",
   "metadata": {
    "id": "sQFq0s_-IXZ1"
   },
   "source": [
    "## Train models"
   ]
  },
  {
   "cell_type": "code",
   "execution_count": null,
   "metadata": {
    "colab": {
     "base_uri": "https://localhost:8080/",
     "height": 1000
    },
    "id": "zvyPXVXQIXZ1",
    "outputId": "a3d8b682-1b50-4ad9-f667-1f9fe5e73250"
   },
   "outputs": [],
   "source": [
    "models = [fc_model, conv3_model, vgg_model]\n",
    "model_names = [\"Fully-connected Model\", \"3-layer CNN\", \"VGG-style CNN\"]\n",
    "best_model = None\n",
    "best_accuracy = 0.0\n",
    "# TODO: train models and find best one"
   ]
  },
  {
   "cell_type": "markdown",
   "metadata": {
    "id": "pffhltALWQSL"
   },
   "source": [
    "## Show predictions"
   ]
  },
  {
   "cell_type": "code",
   "execution_count": null,
   "metadata": {
    "colab": {
     "base_uri": "https://localhost:8080/"
    },
    "id": "83BsBsLCi93z",
    "outputId": "a34440d2-eec5-4d4f-c43f-2c30b637c8a4"
   },
   "outputs": [],
   "source": [
    "print(f\"The best model was: {best_model}\\n with an accuracy of {best_accuracy*100:.2f}%\")"
   ]
  },
  {
   "cell_type": "code",
   "execution_count": null,
   "metadata": {
    "colab": {
     "base_uri": "https://localhost:8080/",
     "height": 162
    },
    "id": "yagsu8VsV2wX",
    "outputId": "51b37267-ad60-48b3-eb5f-a2c42bffddd2"
   },
   "outputs": [],
   "source": [
    "dataiter = iter(testloader)\n",
    "images, labels = next(dataiter)\n",
    "\n",
    "# print images\n",
    "nimages = min(batch_size, 8)\n",
    "norm = testset.transform.transforms[-1]\n",
    "show_images(torchvision.utils.make_grid(images[:nimages]), norm.mean, norm.std)\n",
    "print('GroundTruth: ', ' '.join('%5s' % testset.classes[labels[j]] for j in range(nimages)))\n",
    "\n",
    "# TODO: get predictions of best model\n",
    "\n",
    "\n",
    "# Print the predicted labels\n",
    "# print('Predicted: ', ' '.join('%5s' % testset.classes[preds[j]] for j in range(nimages)))"
   ]
  }
 ],
 "metadata": {
  "accelerator": "GPU",
  "colab": {
   "gpuType": "T4",
   "provenance": []
  },
  "kernelspec": {
   "display_name": "Python 3",
   "name": "python3"
  },
  "language_info": {
   "codemirror_mode": {
    "name": "ipython",
    "version": 3
   },
   "file_extension": ".py",
   "mimetype": "text/x-python",
   "name": "python",
   "nbconvert_exporter": "python",
   "pygments_lexer": "ipython3",
   "version": "3.10.11"
  }
 },
 "nbformat": 4,
 "nbformat_minor": 0
}
